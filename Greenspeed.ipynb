{
 "cells": [
  {
   "cell_type": "markdown",
   "metadata": {},
   "source": [
    "### Load the required libraries"
   ]
  },
  {
   "cell_type": "code",
   "execution_count": 69,
   "metadata": {},
   "outputs": [],
   "source": [
    "import os\n",
    "import re\n",
    "import numpy as np\n",
    "import pandas as pd\n",
    "%matplotlib inline\n",
    "import matplotlib.pyplot as plt\n",
    "import seaborn as sns"
   ]
  },
  {
   "cell_type": "markdown",
   "metadata": {},
   "source": [
    "### Data Munging"
   ]
  },
  {
   "cell_type": "code",
   "execution_count": 70,
   "metadata": {},
   "outputs": [
    {
     "data": {
      "text/html": [
       "<div>\n",
       "<style scoped>\n",
       "    .dataframe tbody tr th:only-of-type {\n",
       "        vertical-align: middle;\n",
       "    }\n",
       "\n",
       "    .dataframe tbody tr th {\n",
       "        vertical-align: top;\n",
       "    }\n",
       "\n",
       "    .dataframe thead th {\n",
       "        text-align: right;\n",
       "    }\n",
       "</style>\n",
       "<table border=\"1\" class=\"dataframe\">\n",
       "  <thead>\n",
       "    <tr style=\"text-align: right;\">\n",
       "      <th></th>\n",
       "      <th>Camera ID</th>\n",
       "      <th>TimeStamp</th>\n",
       "      <th>Latitude</th>\n",
       "      <th>Longitude</th>\n",
       "      <th>Direction</th>\n",
       "      <th>Highway</th>\n",
       "      <th>Traffic Status</th>\n",
       "      <th>Average Vehicle Speed</th>\n",
       "      <th>Vehicle Flow</th>\n",
       "      <th>Traffic Concentration</th>\n",
       "    </tr>\n",
       "  </thead>\n",
       "  <tbody>\n",
       "    <tr>\n",
       "      <th>0</th>\n",
       "      <td>A13.PS.35385</td>\n",
       "      <td>2019-11-19T07:39:00.000+01:00</td>\n",
       "      <td>49.502388</td>\n",
       "      <td>6.305461</td>\n",
       "      <td>outboundFromTown</td>\n",
       "      <td>A13</td>\n",
       "      <td>freeFlow</td>\n",
       "      <td>153.0</td>\n",
       "      <td>200</td>\n",
       "      <td>0</td>\n",
       "    </tr>\n",
       "    <tr>\n",
       "      <th>1</th>\n",
       "      <td>A13.PS.27220</td>\n",
       "      <td>2019-11-19T07:39:00.000+01:00</td>\n",
       "      <td>49.509060</td>\n",
       "      <td>6.206102</td>\n",
       "      <td>outboundFromTown</td>\n",
       "      <td>A13</td>\n",
       "      <td>unknown</td>\n",
       "      <td>NaN</td>\n",
       "      <td>0</td>\n",
       "      <td>0</td>\n",
       "    </tr>\n",
       "    <tr>\n",
       "      <th>2</th>\n",
       "      <td>A13.PTAES.4962</td>\n",
       "      <td>2019-11-19T07:39:00.000+01:00</td>\n",
       "      <td>49.530857</td>\n",
       "      <td>5.941860</td>\n",
       "      <td>inboundTowardsTown</td>\n",
       "      <td>A13</td>\n",
       "      <td>freeFlow</td>\n",
       "      <td>101.0</td>\n",
       "      <td>1881</td>\n",
       "      <td>4</td>\n",
       "    </tr>\n",
       "    <tr>\n",
       "      <th>3</th>\n",
       "      <td>A13.PS.13460</td>\n",
       "      <td>2019-11-19T07:39:00.000+01:00</td>\n",
       "      <td>49.511353</td>\n",
       "      <td>6.031762</td>\n",
       "      <td>outboundFromTown</td>\n",
       "      <td>A13</td>\n",
       "      <td>unknown</td>\n",
       "      <td>NaN</td>\n",
       "      <td>0</td>\n",
       "      <td>0</td>\n",
       "    </tr>\n",
       "    <tr>\n",
       "      <th>4</th>\n",
       "      <td>A13.SP.23974</td>\n",
       "      <td>2019-11-19T07:39:00.000+01:00</td>\n",
       "      <td>49.508278</td>\n",
       "      <td>6.163718</td>\n",
       "      <td>inboundTowardsTown</td>\n",
       "      <td>A13</td>\n",
       "      <td>freeFlow</td>\n",
       "      <td>123.0</td>\n",
       "      <td>2716</td>\n",
       "      <td>3</td>\n",
       "    </tr>\n",
       "    <tr>\n",
       "      <th>...</th>\n",
       "      <td>...</td>\n",
       "      <td>...</td>\n",
       "      <td>...</td>\n",
       "      <td>...</td>\n",
       "      <td>...</td>\n",
       "      <td>...</td>\n",
       "      <td>...</td>\n",
       "      <td>...</td>\n",
       "      <td>...</td>\n",
       "      <td>...</td>\n",
       "    </tr>\n",
       "    <tr>\n",
       "      <th>816863</th>\n",
       "      <td>A13.PTMAS.39179</td>\n",
       "      <td>2019-12-26T09:34:00.000+01:00</td>\n",
       "      <td>49.480038</td>\n",
       "      <td>6.343385</td>\n",
       "      <td>outboundFromTown</td>\n",
       "      <td>A13</td>\n",
       "      <td>freeFlow</td>\n",
       "      <td>100.0</td>\n",
       "      <td>207</td>\n",
       "      <td>0</td>\n",
       "    </tr>\n",
       "    <tr>\n",
       "      <th>816864</th>\n",
       "      <td>A13.STFRP.26477</td>\n",
       "      <td>2019-12-26T09:34:00.000+01:00</td>\n",
       "      <td>49.507000</td>\n",
       "      <td>6.196411</td>\n",
       "      <td>inboundTowardsTown</td>\n",
       "      <td>A13</td>\n",
       "      <td>freeFlow</td>\n",
       "      <td>93.0</td>\n",
       "      <td>174</td>\n",
       "      <td>1</td>\n",
       "    </tr>\n",
       "    <tr>\n",
       "      <th>816865</th>\n",
       "      <td>A13.SP.35385</td>\n",
       "      <td>2019-12-26T09:34:00.000+01:00</td>\n",
       "      <td>49.502422</td>\n",
       "      <td>6.305594</td>\n",
       "      <td>inboundTowardsTown</td>\n",
       "      <td>A13</td>\n",
       "      <td>freeFlow</td>\n",
       "      <td>132.0</td>\n",
       "      <td>153</td>\n",
       "      <td>0</td>\n",
       "    </tr>\n",
       "    <tr>\n",
       "      <th>816866</th>\n",
       "      <td>A13.SP.7944</td>\n",
       "      <td>2019-12-26T09:34:00.000+01:00</td>\n",
       "      <td>49.518810</td>\n",
       "      <td>5.972471</td>\n",
       "      <td>outboundFromTown</td>\n",
       "      <td>A13</td>\n",
       "      <td>freeFlow</td>\n",
       "      <td>92.0</td>\n",
       "      <td>253</td>\n",
       "      <td>0</td>\n",
       "    </tr>\n",
       "    <tr>\n",
       "      <th>816867</th>\n",
       "      <td>A13.PS.37030</td>\n",
       "      <td>2019-12-26T09:34:00.000+01:00</td>\n",
       "      <td>49.493390</td>\n",
       "      <td>6.322593</td>\n",
       "      <td>outboundFromTown</td>\n",
       "      <td>A13</td>\n",
       "      <td>freeFlow</td>\n",
       "      <td>123.0</td>\n",
       "      <td>244</td>\n",
       "      <td>0</td>\n",
       "    </tr>\n",
       "  </tbody>\n",
       "</table>\n",
       "<p>816868 rows × 10 columns</p>\n",
       "</div>"
      ],
      "text/plain": [
       "              Camera ID                      TimeStamp   Latitude  Longitude  \\\n",
       "0          A13.PS.35385  2019-11-19T07:39:00.000+01:00  49.502388   6.305461   \n",
       "1          A13.PS.27220  2019-11-19T07:39:00.000+01:00  49.509060   6.206102   \n",
       "2        A13.PTAES.4962  2019-11-19T07:39:00.000+01:00  49.530857   5.941860   \n",
       "3          A13.PS.13460  2019-11-19T07:39:00.000+01:00  49.511353   6.031762   \n",
       "4          A13.SP.23974  2019-11-19T07:39:00.000+01:00  49.508278   6.163718   \n",
       "...                 ...                            ...        ...        ...   \n",
       "816863  A13.PTMAS.39179  2019-12-26T09:34:00.000+01:00  49.480038   6.343385   \n",
       "816864  A13.STFRP.26477  2019-12-26T09:34:00.000+01:00  49.507000   6.196411   \n",
       "816865     A13.SP.35385  2019-12-26T09:34:00.000+01:00  49.502422   6.305594   \n",
       "816866      A13.SP.7944  2019-12-26T09:34:00.000+01:00  49.518810   5.972471   \n",
       "816867     A13.PS.37030  2019-12-26T09:34:00.000+01:00  49.493390   6.322593   \n",
       "\n",
       "                 Direction Highway Traffic Status  Average Vehicle Speed  \\\n",
       "0         outboundFromTown     A13       freeFlow                  153.0   \n",
       "1         outboundFromTown     A13        unknown                    NaN   \n",
       "2       inboundTowardsTown     A13       freeFlow                  101.0   \n",
       "3         outboundFromTown     A13        unknown                    NaN   \n",
       "4       inboundTowardsTown     A13       freeFlow                  123.0   \n",
       "...                    ...     ...            ...                    ...   \n",
       "816863    outboundFromTown     A13       freeFlow                  100.0   \n",
       "816864  inboundTowardsTown     A13       freeFlow                   93.0   \n",
       "816865  inboundTowardsTown     A13       freeFlow                  132.0   \n",
       "816866    outboundFromTown     A13       freeFlow                   92.0   \n",
       "816867    outboundFromTown     A13       freeFlow                  123.0   \n",
       "\n",
       "        Vehicle Flow  Traffic Concentration  \n",
       "0                200                      0  \n",
       "1                  0                      0  \n",
       "2               1881                      4  \n",
       "3                  0                      0  \n",
       "4               2716                      3  \n",
       "...              ...                    ...  \n",
       "816863           207                      0  \n",
       "816864           174                      1  \n",
       "816865           153                      0  \n",
       "816866           253                      0  \n",
       "816867           244                      0  \n",
       "\n",
       "[816868 rows x 10 columns]"
      ]
     },
     "execution_count": 70,
     "metadata": {},
     "output_type": "execute_result"
    }
   ],
   "source": [
    "green_data = pd.read_csv(r\"C:\\Users\\wanji\\Desktop\\Grren Speed\\datexDataA13 clean.csv\")\n",
    "green_data\n"
   ]
  },
  {
   "cell_type": "markdown",
   "metadata": {},
   "source": [
    "### Understanding the data\n",
    "* `Dataset Info`\n",
    "* `Shape`\n",
    "* `Columns,Columns names and data types`"
   ]
  },
  {
   "cell_type": "code",
   "execution_count": 71,
   "metadata": {},
   "outputs": [
    {
     "name": "stdout",
     "output_type": "stream",
     "text": [
      "<class 'pandas.core.frame.DataFrame'>\n",
      "RangeIndex: 816868 entries, 0 to 816867\n",
      "Data columns (total 10 columns):\n",
      " #   Column                 Non-Null Count   Dtype  \n",
      "---  ------                 --------------   -----  \n",
      " 0   Camera ID              816868 non-null  object \n",
      " 1   TimeStamp              816868 non-null  object \n",
      " 2   Latitude               816868 non-null  float64\n",
      " 3   Longitude              816868 non-null  float64\n",
      " 4   Direction              816868 non-null  object \n",
      " 5   Highway                816868 non-null  object \n",
      " 6   Traffic Status         816868 non-null  object \n",
      " 7   Average Vehicle Speed  613420 non-null  float64\n",
      " 8   Vehicle Flow           816868 non-null  int64  \n",
      " 9   Traffic Concentration  816868 non-null  int64  \n",
      "dtypes: float64(3), int64(2), object(5)\n",
      "memory usage: 62.3+ MB\n",
      "None\n"
     ]
    }
   ],
   "source": [
    "# Function to know the info of the datasets\n",
    "def create_dataset_info(dataset):\n",
    "    if isinstance(dataset, pd.DataFrame):\n",
    "        info = dataset.info()\n",
    "        return info\n",
    "    else:\n",
    "        return \"Invalid dataset type. Please provide a Pandas DataFrame.\"\n",
    "# Assuming you have a dataset named 'sales_data'\n",
    "dataset_info = create_dataset_info(green_data)\n",
    "print(dataset_info)"
   ]
  },
  {
   "cell_type": "code",
   "execution_count": 72,
   "metadata": {},
   "outputs": [
    {
     "name": "stdout",
     "output_type": "stream",
     "text": [
      "Dataset shape: (816868, 10)\n"
     ]
    }
   ],
   "source": [
    "# Function to know the shape \n",
    "def check_dataset_shape(dataset):\n",
    "    if isinstance(dataset, np.ndarray):\n",
    "        print(\"Dataset shape:\", dataset.shape)\n",
    "    elif isinstance(dataset, pd.DataFrame):\n",
    "        print(\"Dataset shape:\", dataset.shape)\n",
    "    else:\n",
    "        print(\"Invalid dataset type. Please provide a NumPy array or a Pandas DataFrame.\")\n",
    "        \n",
    "check_dataset_shape(green_data)"
   ]
  },
  {
   "cell_type": "code",
   "execution_count": 73,
   "metadata": {},
   "outputs": [
    {
     "name": "stdout",
     "output_type": "stream",
     "text": [
      "            Latitude      Longitude  Average Vehicle Speed   Vehicle Flow  \\\n",
      "count  816868.000000  816868.000000          613420.000000  816868.000000   \n",
      "mean       49.508072       6.157052             103.492835     544.078395   \n",
      "std         0.051175       0.160656              20.046577     607.458282   \n",
      "min         7.000000       5.903059               0.000000       0.000000   \n",
      "25%        49.493477       5.972471              92.000000      35.000000   \n",
      "50%        49.509060       6.194627             103.000000     309.000000   \n",
      "75%        49.519505       6.322593             116.000000     875.000000   \n",
      "max        49.555190       6.364823             250.000000    5186.000000   \n",
      "\n",
      "       Traffic Concentration  \n",
      "count          816868.000000  \n",
      "mean                1.272714  \n",
      "std                 1.990619  \n",
      "min                 0.000000  \n",
      "25%                 0.000000  \n",
      "50%                 0.000000  \n",
      "75%                 2.000000  \n",
      "max                48.000000  \n"
     ]
    }
   ],
   "source": [
    "# Function to know statistics\n",
    "def get_dataset_statistics_describe(dataset):\n",
    "\n",
    "    dataset_describe = dataset.describe()\n",
    "    print(dataset_describe)\n",
    "\n",
    "\n",
    "# Call the function to get information about the dataset\n",
    "get_dataset_statistics_describe(green_data)"
   ]
  },
  {
   "cell_type": "markdown",
   "metadata": {},
   "source": []
  },
  {
   "cell_type": "code",
   "execution_count": 74,
   "metadata": {},
   "outputs": [
    {
     "data": {
      "text/plain": [
       "Index(['Camera ID', 'TimeStamp', 'Latitude', 'Longitude', 'Direction',\n",
       "       'Highway', 'Traffic Status', 'Average Vehicle Speed', 'Vehicle Flow',\n",
       "       'Traffic Concentration'],\n",
       "      dtype='object')"
      ]
     },
     "execution_count": 74,
     "metadata": {},
     "output_type": "execute_result"
    }
   ],
   "source": [
    "# Examine the columns in the dataset\n",
    "green_data.columns"
   ]
  },
  {
   "cell_type": "code",
   "execution_count": 75,
   "metadata": {},
   "outputs": [
    {
     "name": "stdout",
     "output_type": "stream",
     "text": [
      "326505\n"
     ]
    }
   ],
   "source": [
    "# Check for duplicates\n",
    "def dataset_duplicated(dataset):\n",
    "  \n",
    "    dataset_duplicated = dataset.duplicated().sum()\n",
    "    print(dataset_duplicated)\n",
    "\n",
    "\n",
    "dataset_duplicated(green_data)"
   ]
  },
  {
   "cell_type": "markdown",
   "metadata": {},
   "source": [
    "### 2) Data Cleaning"
   ]
  },
  {
   "cell_type": "code",
   "execution_count": 76,
   "metadata": {},
   "outputs": [
    {
     "name": "stdout",
     "output_type": "stream",
     "text": [
      "326505\n"
     ]
    }
   ],
   "source": [
    "# Check for duplicates\n",
    "def dataset_duplicated(dataset):\n",
    "  \n",
    "    dataset_duplicated = dataset.duplicated().sum()\n",
    "    print(dataset_duplicated)\n",
    "\n",
    "\n",
    "dataset_duplicated(green_data)"
   ]
  },
  {
   "cell_type": "code",
   "execution_count": 77,
   "metadata": {},
   "outputs": [],
   "source": [
    "# Drop the duplicates\n",
    "def drop_duplicates(dataset):\n",
    "    dataset.drop_duplicates(inplace = True)\n",
    "    \n",
    "drop_duplicates(green_data) "
   ]
  },
  {
   "cell_type": "code",
   "execution_count": 78,
   "metadata": {},
   "outputs": [
    {
     "data": {
      "text/plain": [
       "0"
      ]
     },
     "execution_count": 78,
     "metadata": {},
     "output_type": "execute_result"
    }
   ],
   "source": [
    "# Confirm/check for duplictes\n",
    "green_data.duplicated().sum()"
   ]
  },
  {
   "cell_type": "markdown",
   "metadata": {},
   "source": [
    "* Missing Values"
   ]
  },
  {
   "cell_type": "code",
   "execution_count": 79,
   "metadata": {},
   "outputs": [
    {
     "name": "stdout",
     "output_type": "stream",
     "text": [
      "Column               Missing Values  Percentage     \n",
      "Average Vehicle Speed 122148          24.91          \n"
     ]
    }
   ],
   "source": [
    "# Check the percentage of the missing values\n",
    "def print_missing_values(green_data):\n",
    "\n",
    "    # Get columns with missing values\n",
    "    columns_with_missing = green_data.columns[green_data.isnull().any()].tolist()\n",
    "\n",
    "    # Calculate sum and percentage of missing values for each column\n",
    "    missing_values_sum = green_data[columns_with_missing].isnull().sum()\n",
    "    missing_values_percentage = (missing_values_sum / len(green_data)) * 100\n",
    "\n",
    "    # Create a table with the missing values information\n",
    "    missing_values_table = pd.DataFrame({\n",
    "        'Column': columns_with_missing,\n",
    "        'Missing Values': missing_values_sum,\n",
    "        'Percentage': missing_values_percentage\n",
    "    })\n",
    "\n",
    "    # Print the table with column names and their respective missing values\n",
    "    print(f\"{'Column':<20} {'Missing Values':<15} {'Percentage':<15}\")\n",
    "    for _, row in missing_values_table.iterrows():\n",
    "        print(f\"{row['Column']:<20} {row['Missing Values']:<15} {row['Percentage']:<15.2f}\")\n",
    "\n",
    "print_missing_values(green_data)"
   ]
  },
  {
   "cell_type": "code",
   "execution_count": 80,
   "metadata": {},
   "outputs": [],
   "source": [
    "mean_speed = green_data['Average Vehicle Speed'].mean()\n",
    "green_data['Average Vehicle Speed'].fillna(mean_speed, inplace = True)"
   ]
  },
  {
   "cell_type": "code",
   "execution_count": 81,
   "metadata": {},
   "outputs": [
    {
     "data": {
      "text/plain": [
       "Camera ID                0\n",
       "TimeStamp                0\n",
       "Latitude                 0\n",
       "Longitude                0\n",
       "Direction                0\n",
       "Highway                  0\n",
       "Traffic Status           0\n",
       "Average Vehicle Speed    0\n",
       "Vehicle Flow             0\n",
       "Traffic Concentration    0\n",
       "dtype: int64"
      ]
     },
     "execution_count": 81,
     "metadata": {},
     "output_type": "execute_result"
    }
   ],
   "source": [
    "# Confirm any more missing values\n",
    "green_data.isnull().sum()"
   ]
  },
  {
   "cell_type": "markdown",
   "metadata": {},
   "source": [
    "### EDA"
   ]
  },
  {
   "cell_type": "code",
   "execution_count": 82,
   "metadata": {},
   "outputs": [
    {
     "name": "stdout",
     "output_type": "stream",
     "text": [
      "0        2019-11-19 07:39:00\n",
      "1        2019-11-19 07:39:00\n",
      "2        2019-11-19 07:39:00\n",
      "3        2019-11-19 07:39:00\n",
      "4        2019-11-19 07:39:00\n",
      "                 ...        \n",
      "816817   2019-12-26 09:34:00\n",
      "816818   2019-12-26 09:34:00\n",
      "816819   2019-12-26 09:34:00\n",
      "816820   2019-12-26 09:34:00\n",
      "816821   2019-12-26 09:34:00\n",
      "Name: TimeStamp, Length: 490363, dtype: datetime64[ns]\n"
     ]
    }
   ],
   "source": [
    "# Remove the time zone information (+01:00) from the 'TimeStamp' column\n",
    "green_data['TimeStamp'] = green_data['TimeStamp'].str.replace(r'\\+\\d+:\\d+', '', regex=True)\n",
    "\n",
    "# Convert 'TimeStamp' to datetime\n",
    "green_data['TimeStamp'] = pd.to_datetime(green_data['TimeStamp'], format='%Y-%m-%dT%H:%M:%S.000', errors='coerce')\n",
    "\n",
    "# Check the updated 'TimeStamp' column\n",
    "print(green_data['TimeStamp'])\n"
   ]
  },
  {
   "cell_type": "code",
   "execution_count": 83,
   "metadata": {},
   "outputs": [
    {
     "data": {
      "image/png": "[encoded data removed]",
      "text/plain": [
       "<Figure size 720x432 with 1 Axes>"
      ]
     },
     "metadata": {
      "needs_background": "light"
     },
     "output_type": "display_data"
    }
   ],
   "source": [
    "# Time Series Analysis \n",
    "green_data['TimeStamp'] = pd.to_datetime(green_data['TimeStamp'])\n",
    "plt.figure(figsize =(10,6))\n",
    "plt.plot(green_data['TimeStamp'], green_data['Vehicle Flow'])\n",
    "plt.title('Vehicle Flow Over Time')\n",
    "plt.xlabel('TimeStamp')\n",
    "plt.ylabel('Vehicle Flow')\n",
    "plt.show()"
   ]
  },
  {
   "cell_type": "code",
   "execution_count": 84,
   "metadata": {},
   "outputs": [
    {
     "data": {
      "image/png": "[encoded data removed]",
      "text/plain": [
       "<Figure size 576x432 with 2 Axes>"
      ]
     },
     "metadata": {
      "needs_background": "light"
     },
     "output_type": "display_data"
    }
   ],
   "source": [
    "# Geospatial Visualization\n",
    "plt.figure(figsize=(8, 6))\n",
    "plt.scatter(green_data['Longitude'], green_data['Latitude'], c=green_data['Traffic Status'].astype('category').cat.codes)\n",
    "plt.xlabel('Longitude')\n",
    "plt.ylabel('Latitude')\n",
    "plt.title('Geospatial Distribution of Cameras')\n",
    "plt.colorbar(label='Traffic Status')\n",
    "plt.show()"
   ]
  },
  {
   "cell_type": "code",
   "execution_count": 87,
   "metadata": {},
   "outputs": [
    {
     "data": {
      "image/png": "[encoded data removed]",
      "text/plain": [
       "<Figure size 432x288 with 1 Axes>"
      ]
     },
     "metadata": {
      "needs_background": "light"
     },
     "output_type": "display_data"
    }
   ],
   "source": [
    "# Traffic Status Analysis\n",
    "traffic_status_counts = green_data['Traffic Status'].value_counts()\n",
    "traffic_status_counts.plot(kind='bar')\n",
    "plt.title('Traffic Status Distribution')\n",
    "plt.xlabel('Traffic Status')\n",
    "plt.ylabel('Count')\n",
    "plt.show()\n"
   ]
  },
  {
   "cell_type": "code",
   "execution_count": 91,
   "metadata": {},
   "outputs": [
    {
     "ename": "AttributeError",
     "evalue": "Can only use .str accessor with string values!",
     "output_type": "error",
     "traceback": [
      "\u001b[1;31m---------------------------------------------------------------------------\u001b[0m",
      "\u001b[1;31mAttributeError\u001b[0m                            Traceback (most recent call last)",
      "\u001b[1;32m<ipython-input-91-f0ae18ebbad0>\u001b[0m in \u001b[0;36m<module>\u001b[1;34m\u001b[0m\n\u001b[0;32m      1\u001b[0m \u001b[1;31m# Remove the time zone information (+01:00) from the 'TimeStamp' column\u001b[0m\u001b[1;33m\u001b[0m\u001b[1;33m\u001b[0m\u001b[1;33m\u001b[0m\u001b[0m\n\u001b[1;32m----> 2\u001b[1;33m \u001b[0mgreen_data\u001b[0m\u001b[1;33m[\u001b[0m\u001b[1;34m'TimeStamp'\u001b[0m\u001b[1;33m]\u001b[0m \u001b[1;33m=\u001b[0m \u001b[0mgreen_data\u001b[0m\u001b[1;33m[\u001b[0m\u001b[1;34m'TimeStamp'\u001b[0m\u001b[1;33m]\u001b[0m\u001b[1;33m.\u001b[0m\u001b[0mstr\u001b[0m\u001b[1;33m.\u001b[0m\u001b[0mreplace\u001b[0m\u001b[1;33m(\u001b[0m\u001b[1;34mr'\\+\\d+:\\d+'\u001b[0m\u001b[1;33m,\u001b[0m \u001b[1;34m''\u001b[0m\u001b[1;33m,\u001b[0m \u001b[0mregex\u001b[0m\u001b[1;33m=\u001b[0m\u001b[1;32mTrue\u001b[0m\u001b[1;33m)\u001b[0m\u001b[1;33m\u001b[0m\u001b[1;33m\u001b[0m\u001b[0m\n\u001b[0m\u001b[0;32m      3\u001b[0m \u001b[1;33m\u001b[0m\u001b[0m\n\u001b[0;32m      4\u001b[0m \u001b[1;31m# Convert 'TimeStamp' to datetime\u001b[0m\u001b[1;33m\u001b[0m\u001b[1;33m\u001b[0m\u001b[1;33m\u001b[0m\u001b[0m\n\u001b[0;32m      5\u001b[0m \u001b[0mgreen_data\u001b[0m\u001b[1;33m[\u001b[0m\u001b[1;34m'TimeStamp'\u001b[0m\u001b[1;33m]\u001b[0m \u001b[1;33m=\u001b[0m \u001b[0mpd\u001b[0m\u001b[1;33m.\u001b[0m\u001b[0mto_datetime\u001b[0m\u001b[1;33m(\u001b[0m\u001b[0mgreen_data\u001b[0m\u001b[1;33m[\u001b[0m\u001b[1;34m'TimeStamp'\u001b[0m\u001b[1;33m]\u001b[0m\u001b[1;33m,\u001b[0m \u001b[0mformat\u001b[0m\u001b[1;33m=\u001b[0m\u001b[1;34m'%Y-%m-%dT%H:%M:%S.000'\u001b[0m\u001b[1;33m,\u001b[0m \u001b[0merrors\u001b[0m\u001b[1;33m=\u001b[0m\u001b[1;34m'coerce'\u001b[0m\u001b[1;33m)\u001b[0m\u001b[1;33m\u001b[0m\u001b[1;33m\u001b[0m\u001b[0m\n",
      "\u001b[1;32mc:\\Users\\wanji\\anaconda3\\envs\\learn-env\\lib\\site-packages\\pandas\\core\\generic.py\u001b[0m in \u001b[0;36m__getattr__\u001b[1;34m(self, name)\u001b[0m\n\u001b[0;32m   5133\u001b[0m             \u001b[1;32mor\u001b[0m \u001b[0mname\u001b[0m \u001b[1;32min\u001b[0m \u001b[0mself\u001b[0m\u001b[1;33m.\u001b[0m\u001b[0m_accessors\u001b[0m\u001b[1;33m\u001b[0m\u001b[1;33m\u001b[0m\u001b[0m\n\u001b[0;32m   5134\u001b[0m         ):\n\u001b[1;32m-> 5135\u001b[1;33m             \u001b[1;32mreturn\u001b[0m \u001b[0mobject\u001b[0m\u001b[1;33m.\u001b[0m\u001b[0m__getattribute__\u001b[0m\u001b[1;33m(\u001b[0m\u001b[0mself\u001b[0m\u001b[1;33m,\u001b[0m \u001b[0mname\u001b[0m\u001b[1;33m)\u001b[0m\u001b[1;33m\u001b[0m\u001b[1;33m\u001b[0m\u001b[0m\n\u001b[0m\u001b[0;32m   5136\u001b[0m         \u001b[1;32melse\u001b[0m\u001b[1;33m:\u001b[0m\u001b[1;33m\u001b[0m\u001b[1;33m\u001b[0m\u001b[0m\n\u001b[0;32m   5137\u001b[0m             \u001b[1;32mif\u001b[0m \u001b[0mself\u001b[0m\u001b[1;33m.\u001b[0m\u001b[0m_info_axis\u001b[0m\u001b[1;33m.\u001b[0m\u001b[0m_can_hold_identifiers_and_holds_name\u001b[0m\u001b[1;33m(\u001b[0m\u001b[0mname\u001b[0m\u001b[1;33m)\u001b[0m\u001b[1;33m:\u001b[0m\u001b[1;33m\u001b[0m\u001b[1;33m\u001b[0m\u001b[0m\n",
      "\u001b[1;32mc:\\Users\\wanji\\anaconda3\\envs\\learn-env\\lib\\site-packages\\pandas\\core\\accessor.py\u001b[0m in \u001b[0;36m__get__\u001b[1;34m(self, obj, cls)\u001b[0m\n\u001b[0;32m    185\u001b[0m             \u001b[1;31m# we're accessing the attribute of the class, i.e., Dataset.geo\u001b[0m\u001b[1;33m\u001b[0m\u001b[1;33m\u001b[0m\u001b[1;33m\u001b[0m\u001b[0m\n\u001b[0;32m    186\u001b[0m             \u001b[1;32mreturn\u001b[0m \u001b[0mself\u001b[0m\u001b[1;33m.\u001b[0m\u001b[0m_accessor\u001b[0m\u001b[1;33m\u001b[0m\u001b[1;33m\u001b[0m\u001b[0m\n\u001b[1;32m--> 187\u001b[1;33m         \u001b[0maccessor_obj\u001b[0m \u001b[1;33m=\u001b[0m \u001b[0mself\u001b[0m\u001b[1;33m.\u001b[0m\u001b[0m_accessor\u001b[0m\u001b[1;33m(\u001b[0m\u001b[0mobj\u001b[0m\u001b[1;33m)\u001b[0m\u001b[1;33m\u001b[0m\u001b[1;33m\u001b[0m\u001b[0m\n\u001b[0m\u001b[0;32m    188\u001b[0m         \u001b[1;31m# Replace the property with the accessor object. Inspired by:\u001b[0m\u001b[1;33m\u001b[0m\u001b[1;33m\u001b[0m\u001b[1;33m\u001b[0m\u001b[0m\n\u001b[0;32m    189\u001b[0m         \u001b[1;31m# https://www.pydanny.com/cached-property.html\u001b[0m\u001b[1;33m\u001b[0m\u001b[1;33m\u001b[0m\u001b[1;33m\u001b[0m\u001b[0m\n",
      "\u001b[1;32mc:\\Users\\wanji\\anaconda3\\envs\\learn-env\\lib\\site-packages\\pandas\\core\\strings.py\u001b[0m in \u001b[0;36m__init__\u001b[1;34m(self, data)\u001b[0m\n\u001b[0;32m   2098\u001b[0m \u001b[1;33m\u001b[0m\u001b[0m\n\u001b[0;32m   2099\u001b[0m     \u001b[1;32mdef\u001b[0m \u001b[0m__init__\u001b[0m\u001b[1;33m(\u001b[0m\u001b[0mself\u001b[0m\u001b[1;33m,\u001b[0m \u001b[0mdata\u001b[0m\u001b[1;33m)\u001b[0m\u001b[1;33m:\u001b[0m\u001b[1;33m\u001b[0m\u001b[1;33m\u001b[0m\u001b[0m\n\u001b[1;32m-> 2100\u001b[1;33m         \u001b[0mself\u001b[0m\u001b[1;33m.\u001b[0m\u001b[0m_inferred_dtype\u001b[0m \u001b[1;33m=\u001b[0m \u001b[0mself\u001b[0m\u001b[1;33m.\u001b[0m\u001b[0m_validate\u001b[0m\u001b[1;33m(\u001b[0m\u001b[0mdata\u001b[0m\u001b[1;33m)\u001b[0m\u001b[1;33m\u001b[0m\u001b[1;33m\u001b[0m\u001b[0m\n\u001b[0m\u001b[0;32m   2101\u001b[0m         \u001b[0mself\u001b[0m\u001b[1;33m.\u001b[0m\u001b[0m_is_categorical\u001b[0m \u001b[1;33m=\u001b[0m \u001b[0mis_categorical_dtype\u001b[0m\u001b[1;33m(\u001b[0m\u001b[0mdata\u001b[0m\u001b[1;33m.\u001b[0m\u001b[0mdtype\u001b[0m\u001b[1;33m)\u001b[0m\u001b[1;33m\u001b[0m\u001b[1;33m\u001b[0m\u001b[0m\n\u001b[0;32m   2102\u001b[0m         \u001b[0mself\u001b[0m\u001b[1;33m.\u001b[0m\u001b[0m_is_string\u001b[0m \u001b[1;33m=\u001b[0m \u001b[0mdata\u001b[0m\u001b[1;33m.\u001b[0m\u001b[0mdtype\u001b[0m\u001b[1;33m.\u001b[0m\u001b[0mname\u001b[0m \u001b[1;33m==\u001b[0m \u001b[1;34m\"string\"\u001b[0m\u001b[1;33m\u001b[0m\u001b[1;33m\u001b[0m\u001b[0m\n",
      "\u001b[1;32mc:\\Users\\wanji\\anaconda3\\envs\\learn-env\\lib\\site-packages\\pandas\\core\\strings.py\u001b[0m in \u001b[0;36m_validate\u001b[1;34m(data)\u001b[0m\n\u001b[0;32m   2155\u001b[0m \u001b[1;33m\u001b[0m\u001b[0m\n\u001b[0;32m   2156\u001b[0m         \u001b[1;32mif\u001b[0m \u001b[0minferred_dtype\u001b[0m \u001b[1;32mnot\u001b[0m \u001b[1;32min\u001b[0m \u001b[0mallowed_types\u001b[0m\u001b[1;33m:\u001b[0m\u001b[1;33m\u001b[0m\u001b[1;33m\u001b[0m\u001b[0m\n\u001b[1;32m-> 2157\u001b[1;33m             \u001b[1;32mraise\u001b[0m \u001b[0mAttributeError\u001b[0m\u001b[1;33m(\u001b[0m\u001b[1;34m\"Can only use .str accessor with string values!\"\u001b[0m\u001b[1;33m)\u001b[0m\u001b[1;33m\u001b[0m\u001b[1;33m\u001b[0m\u001b[0m\n\u001b[0m\u001b[0;32m   2158\u001b[0m         \u001b[1;32mreturn\u001b[0m \u001b[0minferred_dtype\u001b[0m\u001b[1;33m\u001b[0m\u001b[1;33m\u001b[0m\u001b[0m\n\u001b[0;32m   2159\u001b[0m \u001b[1;33m\u001b[0m\u001b[0m\n",
      "\u001b[1;31mAttributeError\u001b[0m: Can only use .str accessor with string values!"
     ]
    }
   ],
   "source": [
    "# Remove the time zone information (+01:00) from the 'TimeStamp' column\n",
    "green_data['TimeStamp'] = green_data['TimeStamp'].str.replace(r'\\+\\d+:\\d+', '', regex=True)\n",
    "\n",
    "# Convert 'TimeStamp' to datetime\n",
    "green_data['TimeStamp'] = pd.to_datetime(green_data['TimeStamp'], format='%Y-%m-%dT%H:%M:%S.000', errors='coerce')\n",
    "\n",
    "# Drop any missing values\n",
    "green_data = green_data.dropna(subset=['TimeStamp'])\n",
    "# Check the updated 'TimeStamp' column\n",
    "print(green_data['TimeStamp'])"
   ]
  },
  {
   "cell_type": "code",
   "execution_count": null,
   "metadata": {},
   "outputs": [],
   "source": []
  }
 ],
 "metadata": {
  "kernelspec": {
   "display_name": "learn-env",
   "language": "python",
   "name": "python3"
  },
  "language_info": {
   "codemirror_mode": {
    "name": "ipython",
    "version": 3
   },
   "file_extension": ".py",
   "mimetype": "text/x-python",
   "name": "python",
   "nbconvert_exporter": "python",
   "pygments_lexer": "ipython3",
   "version": "3.8.5"
  }
 },
 "nbformat": 4,
 "nbformat_minor": 2
}
